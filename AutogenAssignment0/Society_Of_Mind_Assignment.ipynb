{
 "cells": [
  {
   "cell_type": "markdown",
   "id": "f2203398",
   "metadata": {},
   "source": [
    "## Society of Minds\n",
    "\n",
    "* An agent that uses an inner team of agents to generate responses\n",
    "* Each time the agent's on_message() or on_message_stream() method is called it runs inner team of agents  "
   ]
  },
  {
   "cell_type": "code",
   "execution_count": 1,
   "id": "f2e3ae0b",
   "metadata": {},
   "outputs": [],
   "source": [
    "from autogen_agentchat.agents import AssistantAgent\n",
    "import asyncio\n",
    "import os\n",
    "from autogen_agentchat.ui import Console\n",
    "from autogen_agentchat.agents import AssistantAgent, SocietyOfMindAgent, UserProxyAgent\n",
    "from autogen_ext.models.openai import OpenAIChatCompletionClient\n",
    "from autogen_agentchat.teams import RoundRobinGroupChat\n",
    "from autogen_agentchat.conditions import TextMentionTermination\n",
    "from autogen_core.models import ModelInfo\n",
    "from dotenv import load_dotenv"
   ]
  },
  {
   "cell_type": "code",
   "execution_count": 2,
   "id": "a89c9248",
   "metadata": {},
   "outputs": [],
   "source": [
    "model_info = ModelInfo(\n",
    "    model=\"gemini-2.5-pro\",\n",
    "    is_chat_model=True,\n",
    "    is_function_calling_model=True ,\n",
    "    vision=False,\n",
    "    function_calling=True,\n",
    "    json_output=True,\n",
    "    family='unknown',\n",
    "    multiple_system_messages=True\n",
    "      # Set to False if the model doesn't support function calling\n",
    ")"
   ]
  },
  {
   "cell_type": "code",
   "execution_count": 3,
   "id": "55adb699",
   "metadata": {},
   "outputs": [
    {
     "name": "stderr",
     "output_type": "stream",
     "text": [
      "c:\\Users\\mukun\\anaconda3\\envs\\autogen\\lib\\site-packages\\autogen_ext\\models\\openai\\_openai_client.py:439: UserWarning: Missing required field 'structured_output' in ModelInfo. This field will be required in a future version of AutoGen.\n",
      "  validate_model_info(self._model_info)\n"
     ]
    }
   ],
   "source": [
    "load_dotenv()\n",
    "api_key = os.getenv('GOOGLE_API_KEY')\n",
    "model_client = OpenAIChatCompletionClient(model='gemini-2.5-pro',api_key=api_key, model_info=model_info)\n",
    "my_assistant = AssistantAgent(name='Assistant',model_client=model_client)"
   ]
  },
  {
   "cell_type": "code",
   "execution_count": 4,
   "id": "0e44765a",
   "metadata": {},
   "outputs": [],
   "source": [
    "\n",
    "agent1 = AssistantAgent(\n",
    "    name=\"loan_data_collector_agent\",\n",
    "    model_client=model_client,\n",
    "    description=\"An agent to provide prospective loan application profile summary\",\n",
    "    system_message=(\n",
    "        \"You are a loan data collector. Given an applicant profile, summarize \"\n",
    "        \"their income, debts, credit score, and requested loan amount clearly.\"\n",
    "    )\n",
    ")\n",
    "\n",
    "agent2 = AssistantAgent(\n",
    "    name = 'risk_analyzer_agent',\n",
    "    model_client = model_client,\n",
    "    description='An agent to analyse the risk profile of the provided applicant',\n",
    "    system_message=\"\"\" You are a credit risk analyzer agent. Review the application profile summary\n",
    "      provided by the loan_data_collector_agent and provide an assessment of the risk of default in under 30 words \"\"\"\n",
    ")"
   ]
  },
  {
   "cell_type": "code",
   "execution_count": 5,
   "id": "5c3d8224",
   "metadata": {},
   "outputs": [],
   "source": [
    "agent3 = AssistantAgent(\n",
    "    name=\"loan_amount_recommender_agent\",\n",
    "    model_client=model_client,\n",
    "    system_message=(\n",
    "        \"\"\" You are a loan amount recommender. Based on the applicant profile and the \n",
    "         assessed risk, provide a suitable loan amount for the application. If you think that\n",
    "          the loan applicant is not eligbile for any loan reply with 0. \"\"\"\n",
    "    )\n",
    ")\n",
    "\n",
    "human_agent = UserProxyAgent(\n",
    "    name = 'human_supervisor_agent',\n",
    "    description=\"\"\"You are the final loan officer. Review all information provided.\n",
    "        - Type APPROVE to approve the loan.\n",
    "        - Type REJECT to reject.\n",
    "        - Provide feedback to request changes or more analysis.\"\"\"\n",
    "    \n",
    ")"
   ]
  },
  {
   "cell_type": "code",
   "execution_count": 6,
   "id": "c9efb70c",
   "metadata": {},
   "outputs": [],
   "source": [
    "termination_condition = TextMentionTermination(\"APPROVE\")\n",
    "inner_team = RoundRobinGroupChat(\n",
    "    [agent1, agent2, agent3, human_agent],\n",
    "    termination_condition=termination_condition,\n",
    "    max_turns=8\n",
    ")"
   ]
  },
  {
   "cell_type": "code",
   "execution_count": 7,
   "id": "0bbd3da8",
   "metadata": {},
   "outputs": [],
   "source": [
    "society_of_mind_agent = SocietyOfMindAgent(\n",
    "    name=\"society_of_mind\",\n",
    "    model_client=model_client,\n",
    "    team=inner_team,\n",
    "    #always_use_team = True,\n",
    "    response_prompt=(\n",
    "        \"Retain all relevant reasoning and intermediate outputs from loan_collector_agent, \"\n",
    "        \"risk_analyzer_agent, loan_amount_recommender_agent, and human_supervisor_agentr. Output exactly the \"\n",
    "        \"final approved or rejected decision along with key facts and reasoning.\"\n",
    "    )\n",
    ")"
   ]
  },
  {
   "cell_type": "code",
   "execution_count": 8,
   "id": "0ba22855",
   "metadata": {},
   "outputs": [],
   "source": [
    "agent4 = AssistantAgent(\n",
    "    name=\"loan_offer_generator_agent\",\n",
    "    model_client=model_client,\n",
    "    description='An agent to provide the final response to the applicant',\n",
    "    system_message=\"\"\"Given the final decision summary, draft a short, formal message for the applicant.\n",
    "    Keep it to under 30 words.\"\"\"\n",
    ")"
   ]
  },
  {
   "cell_type": "code",
   "execution_count": 9,
   "id": "9901c643",
   "metadata": {},
   "outputs": [],
   "source": [
    "outer_team = RoundRobinGroupChat([society_of_mind_agent, agent4], max_turns=2)"
   ]
  },
  {
   "cell_type": "code",
   "execution_count": 10,
   "id": "52081a2a",
   "metadata": {},
   "outputs": [],
   "source": [
    "async def main():\n",
    "    task = \"\"\"Applicant info: Income=20L/year, debts=3L, credit score=720,\n",
    "                requested=3L for business expansion. Data is unverified — please process\n",
    "                All amounts are in Indian rupees\"\"\"\n",
    "    stream = outer_team.run_stream(task=task)\n",
    "    await Console(stream)"
   ]
  },
  {
   "cell_type": "code",
   "execution_count": 11,
   "id": "7764e31a",
   "metadata": {},
   "outputs": [
    {
     "name": "stdout",
     "output_type": "stream",
     "text": [
      "---------- TextMessage (user) ----------\n",
      "Applicant info: Income=20L/year, debts=3L, credit score=720,\n",
      "                requested=3L for business expansion. Data is unverified — please process\n",
      "                All amounts are in Indian rupees\n"
     ]
    },
    {
     "name": "stdout",
     "output_type": "stream",
     "text": [
      "---------- TextMessage (loan_data_collector_agent) ----------\n",
      "Understood. Here is the summary of the applicant's profile:\n",
      "\n",
      "**Applicant Financial Profile Summary**\n",
      "\n",
      "*   **Annual Income:** ₹20 Lakh\n",
      "*   **Existing Debts:** ₹3 Lakh\n",
      "*   **Credit Score:** 720\n",
      "*   **Requested Loan Amount:** ₹3 Lakh\n",
      "*   **Loan Purpose:** Business Expansion\n",
      "\n",
      "**Status:** All provided data is currently unverified.\n",
      "---------- TextMessage (risk_analyzer_agent) ----------\n",
      "While the profile appears strong, the unverified data represents a high default risk. Mandatory verification of all financial details is required before proceeding.\n",
      "---------- TextMessage (loan_amount_recommender_agent) ----------\n",
      "Based on the information provided, here is the loan recommendation.\n",
      "\n",
      "### **Loan Recommendation**\n",
      "\n",
      "**Recommended Loan Amount: ₹0**\n",
      "\n",
      "### **Risk Assessment and Rationale**\n",
      "\n",
      "The primary and overriding risk factor is that **all applicant data is unverified**.\n",
      "\n",
      "While the applicant's stated financial profile appears strong on the surface (high income, good credit score, low requested amount relative to income), no prudent financial institution can extend a loan based on unverified claims.\n",
      "\n",
      "*   **Unquantifiable Default Risk:** Without verification, the income, existing debts, and even the credit score cannot be trusted. The actual financial situation could be drastically different from what is presented, making it impossible to accurately assess the applicant's ability to repay the loan.\n",
      "*   **High Fraud Risk:** Processing a loan on unverified information exposes the lender to a significant risk of fraud. The identity of the applicant and the authenticity of their financial documents must be confirmed through a mandatory KYC (Know Your Customer) process.\n",
      "\n",
      "### **Conditions for Re-evaluation**\n",
      "\n",
      "The application can be re-evaluated for the requested amount of **₹3 Lakh** upon the successful verification of the following:\n",
      "\n",
      "1.  **Income Verification:** Submission and verification of salary slips, bank statements, and Income Tax Returns (ITR) for the last 2-3 years.\n",
      "2.  **Identity and Address Verification:** Completion of the KYC process using valid government-issued documents (e.g., PAN Card, Aadhaar Card).\n",
      "3.  **Credit and Debt Verification:** A formal credit report pull from a bureau (like CIBIL) to confirm the credit score and a comprehensive view of all existing debts and repayment history.\n",
      "\n",
      "**Conclusion:** Until all financial and personal details are formally verified, the application is not eligible for any loan amount.\n",
      "---------- TextMessage (human_supervisor_agent) ----------\n",
      "APPROVE\n",
      "---------- TextMessage (society_of_mind) ----------\n",
      "### **Final Decision: APPROVED**\n",
      "\n",
      "***\n",
      "\n",
      "### **Key Facts**\n",
      "\n",
      "*   **Applicant:** Unverified\n",
      "*   **Annual Income:** ₹20 Lakh (Unverified)\n",
      "*   **Existing Debts:** ₹3 Lakh (Unverified)\n",
      "*   **Credit Score:** 720 (Unverified)\n",
      "*   **Requested Loan Amount:** ₹3 Lakh\n",
      "*   **Loan Purpose:** Business Expansion\n",
      "\n",
      "***\n",
      "\n",
      "### **Reasoning & Agent Analysis**\n",
      "\n",
      "**1. Loan Collector Agent Input:**\n",
      "The agent gathered the applicant's self-reported financial profile. A critical flag was raised: **Status: All provided data is currently unverified.**\n",
      "\n",
      "**2. Risk Analyzer Agent Assessment:**\n",
      "The agent assessed the profile and concluded that while the stated figures appear strong, the unverified nature of the data represents an unquantifiably high default and fraud risk. The agent's formal assessment was that no loan should be considered until all financial details were verified through official channels.\n",
      "\n",
      "**3. Loan Amount Recommender Agent Recommendation:**\n",
      "Based on the Risk Analyzer's finding of extreme risk due to unverified data, the agent's recommendation was:\n",
      "*   **Recommended Loan Amount: ₹0**\n",
      "*   **Rationale:** A loan cannot be extended based on unverified claims.\n",
      "*   **Conditions for Re-evaluation:** The agent stipulated that the application could be reconsidered for the requested ₹3 Lakh upon successful verification of income (ITRs, bank statements), identity (KYC), and credit/debt (formal credit bureau report).\n",
      "\n",
      "**4. Human Supervisor Agent Final Decision:**\n",
      "Despite the unanimous recommendation from the automated agents to reject the loan (or approve ₹0) pending mandatory verification, the Human Supervisor has overridden the system's analysis and provided a final decision to **APPROVE** the loan.\n",
      "---------- TextMessage (loan_offer_generator_agent) ----------\n",
      "Your loan application for ₹3 Lakh has been approved. Our team will contact you shortly with the next steps to complete the process.\n"
     ]
    }
   ],
   "source": [
    "await main()"
   ]
  },
  {
   "cell_type": "code",
   "execution_count": null,
   "id": "0c245a23",
   "metadata": {},
   "outputs": [],
   "source": []
  }
 ],
 "metadata": {
  "kernelspec": {
   "display_name": "autogen",
   "language": "python",
   "name": "python3"
  },
  "language_info": {
   "codemirror_mode": {
    "name": "ipython",
    "version": 3
   },
   "file_extension": ".py",
   "mimetype": "text/x-python",
   "name": "python",
   "nbconvert_exporter": "python",
   "pygments_lexer": "ipython3",
   "version": "3.10.3"
  }
 },
 "nbformat": 4,
 "nbformat_minor": 5
}
